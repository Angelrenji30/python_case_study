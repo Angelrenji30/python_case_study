{
  "nbformat": 4,
  "nbformat_minor": 0,
  "metadata": {
    "colab": {
      "provenance": []
    },
    "kernelspec": {
      "name": "python3",
      "display_name": "Python 3"
    },
    "language_info": {
      "name": "python"
    }
  },
  "cells": [
    {
      "cell_type": "markdown",
      "source": [
        "# Answer the following questions using only builtin Python datatypes and functions. Do not use Numpy or Scipy (i.e. No library imports allowed)"
      ],
      "metadata": {
        "id": "zVV_KMSIUG-A"
      }
    },
    {
      "cell_type": "markdown",
      "source": [
        "# Q1. Write a function that return the range (maximum and minimun) of a given list of numbers"
      ],
      "metadata": {
        "id": "uZnK7VgWV5SI"
      }
    },
    {
      "cell_type": "code",
      "source": [
        "def min_max(num):\n",
        "  num = [2,5,8,9,5]\n",
        "print(\"max value\",max(num))\n",
        "print(\"min value\",min(num))\n",
        "min_max(num)"
      ],
      "metadata": {
        "id": "vuAbJQcOWAM7",
        "colab": {
          "base_uri": "https://localhost:8080/"
        },
        "outputId": "05e98039-f8e8-48c8-cf2a-28ccdb2fc3d7"
      },
      "execution_count": 9,
      "outputs": [
        {
          "output_type": "stream",
          "name": "stdout",
          "text": [
            "max value 9\n",
            "min value 2\n"
          ]
        }
      ]
    },
    {
      "cell_type": "markdown",
      "source": [
        "## Q2. Write function that returns mean value of a list of numbers"
      ],
      "metadata": {
        "id": "Y5_v5a8_U1O-"
      }
    },
    {
      "cell_type": "code",
      "source": [
        "def mean():\n",
        "  n = [2,3,6,8,9]\n",
        "  n1 = sum(n)\n",
        "  print(\"mean is\",n1/len(n))\n",
        "mean()\n"
      ],
      "metadata": {
        "colab": {
          "base_uri": "https://localhost:8080/"
        },
        "id": "EXyvdfMZSAiE",
        "outputId": "77e9e8ae-1a5d-4b19-b19e-785ce8b9931a"
      },
      "execution_count": 64,
      "outputs": [
        {
          "output_type": "stream",
          "name": "stdout",
          "text": [
            "mean is 5.6\n"
          ]
        }
      ]
    },
    {
      "cell_type": "markdown",
      "source": [
        "# Q3. Write a function that returns the median value of a list of numbers"
      ],
      "metadata": {
        "id": "OpeRxoEoVTIP"
      }
    },
    {
      "cell_type": "code",
      "source": [
        "def median():\n",
        "  l = [2,5,8,9,7]\n",
        "  l = sorted(l)\n",
        "  n = len(l)\n",
        "  if n % 2!= 0:\n",
        "    num1 = l[((n+1)//2)-1]\n",
        "    num2 = l[(n//2)-1] + l[((n//2)+1)-1]\n",
        "    print(\"median is\",num1)\n",
        "  else:\n",
        "    print(\"median is\",num2)\n",
        "median()\n"
      ],
      "metadata": {
        "id": "u1CUy0UOVaQi",
        "colab": {
          "base_uri": "https://localhost:8080/"
        },
        "outputId": "4505ba1c-9927-4b98-d8ff-fb0f0eb45011"
      },
      "execution_count": 31,
      "outputs": [
        {
          "output_type": "stream",
          "name": "stdout",
          "text": [
            "median is 7\n"
          ]
        }
      ]
    },
    {
      "cell_type": "markdown",
      "source": [
        "## Q4. Write a function to return the mod of a list of numbers, if no mod exists, it should return None. If more than one mod exist, return the mod values as list"
      ],
      "metadata": {
        "id": "2EMOG7AZSqVn"
      }
    },
    {
      "cell_type": "code",
      "execution_count": null,
      "metadata": {
        "id": "qnMm2dhhSk3-"
      },
      "outputs": [],
      "source": []
    },
    {
      "cell_type": "markdown",
      "source": [
        "## Q5. Write function to compute a given percentile value (e.g. 90th percentile) of a list of numbers"
      ],
      "metadata": {
        "id": "LcqWwqtgTCiL"
      }
    },
    {
      "cell_type": "code",
      "source": [
        "def percentile():\n",
        "  n = [10,20,30,40,50]\n",
        "  num = int(input(\"enter your number:\"))\n",
        "  percentile = int((num/100) * (len(n)+1))\n",
        "  print(\"percentile is:\", n[percentile-1])\n",
        "percentile()\n"
      ],
      "metadata": {
        "id": "Sn307h0TTb2b",
        "colab": {
          "base_uri": "https://localhost:8080/"
        },
        "outputId": "d1517dd7-d99d-447c-f52e-73103585aa28"
      },
      "execution_count": 33,
      "outputs": [
        {
          "output_type": "stream",
          "name": "stdout",
          "text": [
            "enter your number:30\n",
            "percentile is: 10\n"
          ]
        }
      ]
    },
    {
      "cell_type": "markdown",
      "source": [
        "# Q6. Write a function that returns the lower bound of a list of numbers"
      ],
      "metadata": {
        "id": "N-TYHkDcWOfS"
      }
    },
    {
      "cell_type": "code",
      "source": [
        "def quartile():\n",
        "  n = [2,12,5,7,8]\n",
        "  n = sorted(n)\n",
        "  Q1 = int((25/100)*(len(n)+1))\n",
        "  Q3 = int((75/100)*(len(n)+1))\n",
        "  print(\"Q1 is :\",n[Q1-1])\n",
        "  print(\"Q3 is :\",n[Q3-1])\n",
        "  print(\"IQR is :\",n[Q3-1]-n[Q1-1])\n",
        "  lower_bound = (Q1 - 1.5 * (Q3 - Q1))\n",
        "  print(\"lower bound is :\",lower_bound)\n",
        "quartile()"
      ],
      "metadata": {
        "colab": {
          "base_uri": "https://localhost:8080/"
        },
        "id": "637f2L7EcMU9",
        "outputId": "a5495f0c-03ea-4752-e2a4-d80dbcca4b4c"
      },
      "execution_count": 49,
      "outputs": [
        {
          "output_type": "stream",
          "name": "stdout",
          "text": [
            "Q1 is : 2\n",
            "Q3 is : 8\n",
            "IQR is : 6\n",
            "lower bound is : -3.5\n"
          ]
        }
      ]
    },
    {
      "cell_type": "markdown",
      "source": [
        "## Q7. Write function to return any outliers from a given list of numbers, if no outliers present it should return None"
      ],
      "metadata": {
        "id": "5aHfaI_jThpX"
      }
    },
    {
      "cell_type": "code",
      "source": [
        "def outliers():\n",
        "  n = [2,12,5,7,8]\n",
        "  n = sorted(n)\n",
        "  Q1 = int((25/100)*(len(n)+1))\n",
        "  Q3 = int((75/100)*(len(n)+1))\n",
        "  print(\"Q1 is :\",n[Q1-1])\n",
        "  print(\"Q3 is :\",n[Q3])\n",
        "  IQR = n[Q3] - n[Q1-1]\n",
        "  print(\"IQR is :\",IQR)\n",
        "  lower_bound = n[Q1-1] - 1.5 * IQR\n",
        "  upper_bound = Q3 + 1.5 * IQR\n",
        "  print(\"lower bound is :\",lower_bound)\n",
        "  print(\"upper bound is :\",upper_bound)\n",
        "  for i in n:\n",
        "    if (i < lower_bound or i > upper_bound):\n",
        "     print(\"ouliers are present\",i)\n",
        "  else:\n",
        "    None\n",
        "outliers()\n"
      ],
      "metadata": {
        "id": "gG6-qzT7T0Si",
        "colab": {
          "base_uri": "https://localhost:8080/"
        },
        "outputId": "7d05e203-d26e-4313-c881-aefd710d70b8"
      },
      "execution_count": 90,
      "outputs": [
        {
          "output_type": "stream",
          "name": "stdout",
          "text": [
            "Q1 is : 2\n",
            "Q3 is : 12\n",
            "IQR is : 10\n",
            "lower bound is : -13.0\n",
            "upper bound is : 19.0\n"
          ]
        }
      ]
    },
    {
      "cell_type": "markdown",
      "source": [
        "##Q8. Write a function to return standard deviation of a list of numbers"
      ],
      "metadata": {
        "id": "jI9t-tcDT5EK"
      }
    },
    {
      "cell_type": "code",
      "source": [
        "def sd():\n",
        "  n = [2,3,6,8,9]\n",
        "  n1 = sum(n)\n",
        "  mean = n1/len(n)\n",
        "  print(\"mean is\",n1/len(n))\n",
        "  var = sum((x-mean)**2 for x in n)/len(n)\n",
        "  print(\"variance is\", var)\n",
        "  sd = var**0.5\n",
        "  print(\"standard deviation %.2f\"%sd)\n",
        "sd()"
      ],
      "metadata": {
        "id": "MMU_cMlLUFxJ",
        "colab": {
          "base_uri": "https://localhost:8080/"
        },
        "outputId": "c02e0ff0-8a6b-44c7-ec25-30862075a223"
      },
      "execution_count": 79,
      "outputs": [
        {
          "output_type": "stream",
          "name": "stdout",
          "text": [
            "mean is 5.6\n",
            "variance is 7.44\n",
            "standard deviation 2.73\n"
          ]
        }
      ]
    },
    {
      "cell_type": "markdown",
      "source": [
        "## Q9. Write function to compute and return Z-score values of a list of numbers"
      ],
      "metadata": {
        "id": "LufmQDJPURkM"
      }
    },
    {
      "cell_type": "code",
      "source": [
        "def z_score():\n",
        "  n = [2,3,6,8,9]\n",
        "  n1 = sum(n)\n",
        "  mean = n1/len(n)\n",
        "  print(\"mean is\",n1/len(n))\n",
        "  var = sum((x-mean)**2 for x in n)/len(n)\n",
        "  print(\"variance is\", var)\n",
        "  sd = var**0.5\n",
        "  for i in n:\n",
        "    z = (i-mean)/sd\n",
        "    print(\"z_score is:%.2f\"%z)\n",
        "z_score()"
      ],
      "metadata": {
        "id": "ml2qpSpFUYxV",
        "colab": {
          "base_uri": "https://localhost:8080/"
        },
        "outputId": "03605dae-9f30-442c-b856-1dedbb5cf45e"
      },
      "execution_count": 84,
      "outputs": [
        {
          "output_type": "stream",
          "name": "stdout",
          "text": [
            "mean is 5.6\n",
            "variance is 7.44\n",
            "z_score is:-1.32\n",
            "z_score is:-0.95\n",
            "z_score is:0.15\n",
            "z_score is:0.88\n",
            "z_score is:1.25\n"
          ]
        }
      ]
    },
    {
      "cell_type": "markdown",
      "source": [
        "## Q10. Write a function to compute and return the Pearson correlation coefficient value of two list of numbers"
      ],
      "metadata": {
        "id": "YQSNHIfxUb6s"
      }
    },
    {
      "cell_type": "code",
      "source": [
        "x = [2,4,8,7,1]\n",
        "y = [1,2,4,5,3]\n",
        "mean_x = sum(x)/len(x)\n",
        "mean_y = sum(y)/len(y)\n",
        "  var = sum((x-mean_x)*(y-y_mean) for i in x)\n",
        "\n"
      ],
      "metadata": {
        "id": "1YGqr3T6Uk6H",
        "colab": {
          "base_uri": "https://localhost:8080/",
          "height": 182
        },
        "outputId": "48cb5039-2703-413e-dfa9-68655d7ab3eb"
      },
      "execution_count": 88,
      "outputs": [
        {
          "output_type": "error",
          "ename": "TypeError",
          "evalue": "'float' object is not iterable",
          "traceback": [
            "\u001b[0;31m---------------------------------------------------------------------------\u001b[0m",
            "\u001b[0;31mTypeError\u001b[0m                                 Traceback (most recent call last)",
            "\u001b[0;32m/tmp/ipython-input-88-3930090949.py\u001b[0m in \u001b[0;36m<cell line: 0>\u001b[0;34m()\u001b[0m\n\u001b[1;32m      4\u001b[0m \u001b[0mmean_y\u001b[0m \u001b[0;34m=\u001b[0m \u001b[0msum\u001b[0m\u001b[0;34m(\u001b[0m\u001b[0my\u001b[0m\u001b[0;34m)\u001b[0m\u001b[0;34m/\u001b[0m\u001b[0mlen\u001b[0m\u001b[0;34m(\u001b[0m\u001b[0my\u001b[0m\u001b[0;34m)\u001b[0m\u001b[0;34m\u001b[0m\u001b[0;34m\u001b[0m\u001b[0m\n\u001b[1;32m      5\u001b[0m \u001b[0;32mfor\u001b[0m \u001b[0mi\u001b[0m \u001b[0;32min\u001b[0m \u001b[0mrange\u001b[0m\u001b[0;34m(\u001b[0m\u001b[0mlen\u001b[0m\u001b[0;34m(\u001b[0m\u001b[0mx\u001b[0m\u001b[0;34m)\u001b[0m\u001b[0;34m)\u001b[0m\u001b[0;34m:\u001b[0m\u001b[0;34m\u001b[0m\u001b[0;34m\u001b[0m\u001b[0m\n\u001b[0;32m----> 6\u001b[0;31m   \u001b[0mvar\u001b[0m \u001b[0;34m=\u001b[0m \u001b[0msum\u001b[0m\u001b[0;34m(\u001b[0m\u001b[0;34m(\u001b[0m\u001b[0mx\u001b[0m\u001b[0;34m[\u001b[0m\u001b[0mi\u001b[0m\u001b[0;34m]\u001b[0m\u001b[0;34m-\u001b[0m\u001b[0mmean_x\u001b[0m\u001b[0;34m)\u001b[0m \u001b[0;34m*\u001b[0m \u001b[0;34m(\u001b[0m\u001b[0my\u001b[0m\u001b[0;34m[\u001b[0m\u001b[0mi\u001b[0m\u001b[0;34m]\u001b[0m\u001b[0;34m-\u001b[0m\u001b[0mmean_y\u001b[0m\u001b[0;34m)\u001b[0m\u001b[0;34m)\u001b[0m\u001b[0;34m\u001b[0m\u001b[0;34m\u001b[0m\u001b[0m\n\u001b[0m",
            "\u001b[0;31mTypeError\u001b[0m: 'float' object is not iterable"
          ]
        }
      ]
    }
  ]
}